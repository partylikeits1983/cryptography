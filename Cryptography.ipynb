{
 "cells": [
  {
   "cell_type": "code",
   "execution_count": 83,
   "id": "forced-tournament",
   "metadata": {},
   "outputs": [],
   "source": [
    "import cryptography"
   ]
  },
  {
   "cell_type": "code",
   "execution_count": 84,
   "id": "precious-brazilian",
   "metadata": {},
   "outputs": [
    {
     "name": "stdout",
     "output_type": "stream",
     "text": [
      "b'cqPjdfXUoscMU9TQeENTiuuBOeVCVbnR1yzn5IsCFpg='\n"
     ]
    }
   ],
   "source": [
    "from cryptography.fernet import Fernet\n",
    "key = Fernet.generate_key()\n",
    "print(key)"
   ]
  },
  {
   "cell_type": "code",
   "execution_count": 40,
   "id": "fiscal-memory",
   "metadata": {},
   "outputs": [],
   "source": [
    "#save fernet key to file\n",
    "file = open('/home/ubuntu/Desktop/key.key', 'wb')  # Open the file as wb to write bytes\n",
    "file.write(key)  # The key is type bytes still\n",
    "file.close()\n",
    "\n",
    "file = open('/home/ubuntu/Desktop/key.key', 'rb')  # Open the file as wb to read bytes\n",
    "key = file.read()  # The key will be type bytes\n",
    "file.close()"
   ]
  },
  {
   "cell_type": "code",
   "execution_count": 93,
   "id": "executive-modern",
   "metadata": {},
   "outputs": [],
   "source": [
    "# create key from user generated password, i.e. not as secure as fernet generated key \n",
    "\n",
    "import base64\n",
    "from cryptography.hazmat.backends import default_backend\n",
    "from cryptography.hazmat.primitives import hashes\n",
    "from cryptography.hazmat.primitives.kdf.pbkdf2 import PBKDF2HMAC\n",
    "\n",
    "password_provided = \"password\"  # This is input in the form of a string\n",
    "password = password_provided.encode()  # Convert to type bytes\n",
    "salt = b'salt_'  # CHANGE THIS - recommend using a key from os.urandom(16), must be of type bytes\n",
    "kdf = PBKDF2HMAC(\n",
    "    algorithm=hashes.SHA256(),\n",
    "    length=32,\n",
    "    salt=salt,\n",
    "    iterations=100000,\n",
    "    backend=default_backend()\n",
    ")\n",
    "key = base64.urlsafe_b64encode(kdf.derive(password))  # Can only use kdf once"
   ]
  },
  {
   "cell_type": "code",
   "execution_count": 94,
   "id": "d367cd98",
   "metadata": {},
   "outputs": [
    {
     "name": "stdout",
     "output_type": "stream",
     "text": [
      "b'fXLee9du3mH7Pm_VvZsI0whCo5H0EdKxufyJjqG57Zs='\n"
     ]
    }
   ],
   "source": [
    "print(key)"
   ]
  },
  {
   "cell_type": "code",
   "execution_count": 95,
   "id": "91110545",
   "metadata": {},
   "outputs": [],
   "source": [
    "file = open('test.txt', 'w') \n",
    "message = '4462236127197377'\n",
    "file.write(message) \n",
    "file.close()"
   ]
  },
  {
   "cell_type": "code",
   "execution_count": 96,
   "id": "4ae538fe",
   "metadata": {},
   "outputs": [],
   "source": [
    "file = open('test.txt', 'r')  \n",
    "message = file.read()  \n",
    "file.close()"
   ]
  },
  {
   "cell_type": "code",
   "execution_count": 97,
   "id": "adapted-cosmetic",
   "metadata": {},
   "outputs": [],
   "source": [
    "#encrypt the file using fernet key or from user generated password\n",
    "from cryptography.fernet import Fernet\n",
    "key = 'fXLee9du3mH7Pm_VvZsI0whCo5H0EdKxufyJjqG57Zs=' # Use one of the methods to get a key (it must be the same when decrypting)\n",
    "input_file = 'test.txt'\n",
    "output_file = 'test.encrypted'\n",
    "\n",
    "with open(input_file, 'rb') as f:\n",
    "    data = f.read()  # Read the bytes of the input file\n",
    "\n",
    "fernet = Fernet(key)\n",
    "encrypted = fernet.encrypt(data)\n",
    "\n",
    "with open(output_file, 'wb') as f:\n",
    "    f.write(encrypted)  # Write the encrypted bytes to the output file\n"
   ]
  },
  {
   "cell_type": "code",
   "execution_count": 88,
   "id": "municipal-playing",
   "metadata": {},
   "outputs": [],
   "source": [
    "#compressing encrypted file\n",
    "import gzip\n",
    "import shutil\n",
    "with open('test.txt', 'rb') as f_in:\n",
    "    with gzip.open('test.gz', 'wb') as f_out:\n",
    "        shutil.copyfileobj(f_in, f_out)"
   ]
  },
  {
   "cell_type": "code",
   "execution_count": 98,
   "id": "growing-adult",
   "metadata": {},
   "outputs": [],
   "source": [
    "from cryptography.fernet import Fernet, InvalidToken\n",
    "key = 'fXLee9du3mH7Pm_VvZsI0whCo5H0EdKxufyJjqG57Zs=' \n",
    "input_file = 'test.encrypted'\n",
    "output_file = 'decryptedtesttxt.txt'\n",
    "\n",
    "with open(input_file, 'rb') as f:\n",
    "    data = f.read()  # Read the bytes of the encrypted file\n",
    "\n",
    "fernet = Fernet(key)\n",
    "try:\n",
    "    decrypted = fernet.decrypt(data)\n",
    "\n",
    "    with open(output_file, 'wb') as f:\n",
    "        f.write(decrypted)  # Write the decrypted bytes to the output file\n",
    "\n",
    "    # Note: You can delete input_file here if you want\n",
    "except InvalidToken as e:\n",
    "    print(\"Invalid Key - Unsuccessfully decrypted\")\n"
   ]
  },
  {
   "cell_type": "code",
   "execution_count": 99,
   "id": "sonic-parts",
   "metadata": {},
   "outputs": [
    {
     "name": "stdout",
     "output_type": "stream",
     "text": [
      "4462236127197377\n"
     ]
    }
   ],
   "source": [
    "file = open('decryptedtesttxt.txt', 'r')  \n",
    "decryptedmessage = file.read()  \n",
    "file.close()\n",
    "print(message)"
   ]
  },
  {
   "cell_type": "code",
   "execution_count": null,
   "id": "grand-madonna",
   "metadata": {},
   "outputs": [],
   "source": []
  }
 ],
 "metadata": {
  "kernelspec": {
   "display_name": "Python 3",
   "language": "python",
   "name": "python3"
  },
  "language_info": {
   "codemirror_mode": {
    "name": "ipython",
    "version": 3
   },
   "file_extension": ".py",
   "mimetype": "text/x-python",
   "name": "python",
   "nbconvert_exporter": "python",
   "pygments_lexer": "ipython3",
   "version": "3.8.10"
  }
 },
 "nbformat": 4,
 "nbformat_minor": 5
}
